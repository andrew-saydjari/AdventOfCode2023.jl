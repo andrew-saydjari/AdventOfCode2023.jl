{
 "cells": [
  {
   "cell_type": "markdown",
   "id": "42cc008c-55c6-4333-8768-8d360e1eb7a5",
   "metadata": {},
   "source": [
    "# Loading Packages"
   ]
  },
  {
   "cell_type": "code",
   "execution_count": 1,
   "id": "48beebd3-c7a5-4a4e-85d4-e60f8ae804b8",
   "metadata": {
    "execution": {
     "iopub.execute_input": "2023-12-07T21:18:30.346000-07:00",
     "iopub.status.busy": "2023-12-07T21:18:29.819000-07:00",
     "iopub.status.idle": "2023-12-07T21:18:32.955000-07:00",
     "shell.execute_reply": "2023-12-07T21:18:32.923000-07:00"
    },
    "tags": []
   },
   "outputs": [
    {
     "name": "stderr",
     "output_type": "stream",
     "text": [
      "\u001b[32m\u001b[1m  Activating\u001b[22m\u001b[39m project at `/uufs/chpc.utah.edu/common/home/sdss42/sdsswork/users/u6039752-1/software/AdventOfCode2023.jl`\n"
     ]
    },
    {
     "data": {
      "text/plain": [
       "1000-element Vector{String}:\n",
       " \"53AQ3 698\"\n",
       " \"555A5 490\"\n",
       " \"KQQ8K 338\"\n",
       " \"Q8J88 94\"\n",
       " \"T844J 329\"\n",
       " \"99A9A 918\"\n",
       " \"5846Q 753\"\n",
       " \"99TJT 175\"\n",
       " \"A3465 353\"\n",
       " \"J9K99 725\"\n",
       " \"6A9Q8 525\"\n",
       " \"5Q2K3 666\"\n",
       " \"88688 729\"\n",
       " ⋮\n",
       " \"597J6 46\"\n",
       " \"TTT49 324\"\n",
       " \"2222A 273\"\n",
       " \"T5223 91\"\n",
       " \"97QQJ 812\"\n",
       " \"37373 776\"\n",
       " \"KKKQJ 327\"\n",
       " \"77K9J 280\"\n",
       " \"TT3T3 711\"\n",
       " \"92999 567\"\n",
       " \"99993 974\"\n",
       " \"52T22 735\""
      ]
     },
     "execution_count": 1,
     "metadata": {},
     "output_type": "execute_result"
    }
   ],
   "source": [
    "import Pkg\n",
    "basedir = \"../\"\n",
    "Pkg.activate(basedir)\n",
    "using BenchmarkTools\n",
    "using FreqTables\n",
    "input = readlines(basedir*\"data/input_07.txt\")"
   ]
  },
  {
   "cell_type": "code",
   "execution_count": 2,
   "id": "d19a103b-afd5-4c29-ba60-ae81b06644ad",
   "metadata": {
    "execution": {
     "iopub.execute_input": "2023-12-07T21:18:33.077000-07:00",
     "iopub.status.busy": "2023-12-07T21:18:32.956000-07:00",
     "iopub.status.idle": "2023-12-07T21:18:33.093000-07:00",
     "shell.execute_reply": "2023-12-07T21:18:33.093000-07:00"
    },
    "tags": []
   },
   "outputs": [
    {
     "data": {
      "text/plain": [
       "5-element Vector{String}:\n",
       " \"32T3K 765\"\n",
       " \"T55J5 684\"\n",
       " \"KK677 28\"\n",
       " \"KTJJT 220\"\n",
       " \"QQQJA 483\""
      ]
     },
     "execution_count": 2,
     "metadata": {},
     "output_type": "execute_result"
    }
   ],
   "source": [
    "input_test = readlines(basedir*\"data/input_07t.txt\")"
   ]
  },
  {
   "cell_type": "markdown",
   "id": "38bcea9e-bf97-478f-a8cf-ce7f2526c159",
   "metadata": {},
   "source": [
    "# Part 1"
   ]
  },
  {
   "cell_type": "code",
   "execution_count": 10,
   "id": "aa5de467-b1df-48db-b709-f0b286635fac",
   "metadata": {
    "execution": {
     "iopub.execute_input": "2023-12-07T21:18:50.773000-07:00",
     "iopub.status.busy": "2023-12-07T21:18:50.773000-07:00",
     "iopub.status.idle": "2023-12-07T21:18:50.775000-07:00",
     "shell.execute_reply": "2023-12-07T21:18:50.775000-07:00"
    },
    "tags": []
   },
   "outputs": [
    {
     "data": {
      "text/plain": [
       "Dict{Char, Int64} with 13 entries:\n",
       "  'K' => 13\n",
       "  'J' => 11\n",
       "  '7' => 7\n",
       "  '6' => 6\n",
       "  '9' => 9\n",
       "  'T' => 10\n",
       "  '5' => 5\n",
       "  'A' => 14\n",
       "  '3' => 3\n",
       "  '2' => 2\n",
       "  '4' => 4\n",
       "  '8' => 8\n",
       "  'Q' => 12"
      ]
     },
     "execution_count": 10,
     "metadata": {},
     "output_type": "execute_result"
    }
   ],
   "source": [
    "card2val = Dict('A'=>14,'K'=>13,'Q'=>12,'J'=>11,'T'=>10,'9'=>9,'8'=>8,'7'=>7,'6'=>6,'5'=>5,'4'=>4,'3'=>3,'2'=>2)"
   ]
  },
  {
   "cell_type": "code",
   "execution_count": 4,
   "id": "e3b8cbab-3141-45e9-abce-d2447cde42a8",
   "metadata": {
    "execution": {
     "iopub.execute_input": "2023-12-07T21:18:34.042000-07:00",
     "iopub.status.busy": "2023-12-07T21:18:34.042000-07:00",
     "iopub.status.idle": "2023-12-07T21:18:34.251000-07:00",
     "shell.execute_reply": "2023-12-07T21:18:34.251000-07:00"
    },
    "tags": []
   },
   "outputs": [
    {
     "data": {
      "text/plain": [
       "ingest_input (generic function with 1 method)"
      ]
     },
     "execution_count": 4,
     "metadata": {},
     "output_type": "execute_result"
    }
   ],
   "source": [
    "function ingest_input(input)\n",
    "    sinput = split.(input,\" \")\n",
    "    bid_vec = map(x->parse(Int,x[2]),sinput);\n",
    "    hand_vec = zeros(Int,length(bid_vec),5);\n",
    "    for i=1:length(bid_vec)\n",
    "        hand_vec[i,:] .= map(x->card2val[x],collect(sinput[i][1]))\n",
    "    end\n",
    "    return bid_vec, hand_vec\n",
    "end"
   ]
  },
  {
   "cell_type": "code",
   "execution_count": 5,
   "id": "47e48832-1721-4c94-a3ce-117269c94b90",
   "metadata": {
    "execution": {
     "iopub.execute_input": "2023-12-07T21:18:34.251000-07:00",
     "iopub.status.busy": "2023-12-07T21:18:34.251000-07:00",
     "iopub.status.idle": "2023-12-07T21:18:34.346000-07:00",
     "shell.execute_reply": "2023-12-07T21:18:34.345000-07:00"
    },
    "tags": []
   },
   "outputs": [
    {
     "data": {
      "text/plain": [
       "type_hand (generic function with 1 method)"
      ]
     },
     "execution_count": 5,
     "metadata": {},
     "output_type": "execute_result"
    }
   ],
   "source": [
    "function type_hand(hand)\n",
    "    f = freqtable(hand)\n",
    "    if maximum(f.array) == 5 # five of a kind\n",
    "        return 7\n",
    "    elseif maximum(f.array) == 4 # four of a kind\n",
    "        return 6\n",
    "    elseif (f.array == [2, 3]) .| (f.array == [3, 2]) # full house\n",
    "        return 5\n",
    "    elseif maximum(f.array) == 3 # three of a kind\n",
    "        return 4\n",
    "    elseif count(f.array .== 2) == 2 # two pair\n",
    "        return 3\n",
    "    elseif maximum(f.array) == 2 # pair\n",
    "        return 2\n",
    "    elseif length(f.array) == 5 # high card\n",
    "        return 1\n",
    "    end\n",
    "end"
   ]
  },
  {
   "cell_type": "code",
   "execution_count": 6,
   "id": "db2b560f-0708-43ea-816b-fa5c613d34f6",
   "metadata": {
    "execution": {
     "iopub.execute_input": "2023-12-07T21:18:34.346000-07:00",
     "iopub.status.busy": "2023-12-07T21:18:34.346000-07:00",
     "iopub.status.idle": "2023-12-07T21:18:34.434000-07:00",
     "shell.execute_reply": "2023-12-07T21:18:34.434000-07:00"
    },
    "tags": []
   },
   "outputs": [
    {
     "data": {
      "text/plain": [
       "solution (generic function with 1 method)"
      ]
     },
     "execution_count": 6,
     "metadata": {},
     "output_type": "execute_result"
    }
   ],
   "source": [
    "function solution(input)\n",
    "    bid_vec, hand_vec = ingest_input(input)\n",
    "    handtype_vec = map(x->type_hand(x),eachrow(hand_vec))\n",
    "    \n",
    "    hand_and_index = hcat(hand_vec,1:size(hand_vec,1))\n",
    "    indvec = []\n",
    "    for i=7:-1:1\n",
    "        msk = (handtype_vec .== i)\n",
    "        sort_mat = sortslices(hand_and_index[msk,:], dims=1, by=x->(x[1], x[2], x[3], x[4], x[5]),rev=true)\n",
    "        push!(indvec,sort_mat[:,6]...)\n",
    "    end\n",
    "    return sum(bid_vec[indvec].*(size(hand_vec,1):-1:1))\n",
    "end"
   ]
  },
  {
   "cell_type": "code",
   "execution_count": 7,
   "id": "6af1f771-3ad9-44b9-a8a9-ac1f3e662f37",
   "metadata": {
    "execution": {
     "iopub.execute_input": "2023-12-07T21:18:34.434000-07:00",
     "iopub.status.busy": "2023-12-07T21:18:34.434000-07:00",
     "iopub.status.idle": "2023-12-07T21:18:37.536000-07:00",
     "shell.execute_reply": "2023-12-07T21:18:37.536000-07:00"
    },
    "tags": []
   },
   "outputs": [
    {
     "data": {
      "text/plain": [
       "6440"
      ]
     },
     "execution_count": 7,
     "metadata": {},
     "output_type": "execute_result"
    }
   ],
   "source": [
    "solution(input_test)"
   ]
  },
  {
   "cell_type": "code",
   "execution_count": 8,
   "id": "24e73e0e-f769-4910-bec2-cb558b7cadc3",
   "metadata": {
    "execution": {
     "iopub.execute_input": "2023-12-07T21:18:37.536000-07:00",
     "iopub.status.busy": "2023-12-07T21:18:37.536000-07:00",
     "iopub.status.idle": "2023-12-07T21:18:37.552000-07:00",
     "shell.execute_reply": "2023-12-07T21:18:37.552000-07:00"
    },
    "tags": []
   },
   "outputs": [
    {
     "data": {
      "text/plain": [
       "246424613"
      ]
     },
     "execution_count": 8,
     "metadata": {},
     "output_type": "execute_result"
    }
   ],
   "source": [
    "solution(input)"
   ]
  },
  {
   "cell_type": "code",
   "execution_count": 11,
   "id": "86ecf26c-5083-464d-8256-5dd9d2738c2d",
   "metadata": {
    "execution": {
     "iopub.execute_input": "2023-12-07T21:18:53.721000-07:00",
     "iopub.status.busy": "2023-12-07T21:18:53.721000-07:00",
     "iopub.status.idle": "2023-12-07T21:19:08.367000-07:00",
     "shell.execute_reply": "2023-12-07T21:19:08.367000-07:00"
    }
   },
   "outputs": [
    {
     "data": {
      "text/plain": [
       "BenchmarkTools.Trial: 928 samples with 1 evaluation.\n",
       " Range \u001b[90m(\u001b[39m\u001b[36m\u001b[1mmin\u001b[22m\u001b[39m … \u001b[35mmax\u001b[39m\u001b[90m):  \u001b[39m\u001b[36m\u001b[1m4.980 ms\u001b[22m\u001b[39m … \u001b[35m10.068 ms\u001b[39m  \u001b[90m┊\u001b[39m GC \u001b[90m(\u001b[39mmin … max\u001b[90m): \u001b[39m0.00% … 38.45%\n",
       " Time  \u001b[90m(\u001b[39m\u001b[34m\u001b[1mmedian\u001b[22m\u001b[39m\u001b[90m):     \u001b[39m\u001b[34m\u001b[1m5.032 ms              \u001b[22m\u001b[39m\u001b[90m┊\u001b[39m GC \u001b[90m(\u001b[39mmedian\u001b[90m):    \u001b[39m0.00%\n",
       " Time  \u001b[90m(\u001b[39m\u001b[32m\u001b[1mmean\u001b[22m\u001b[39m ± \u001b[32mσ\u001b[39m\u001b[90m):   \u001b[39m\u001b[32m\u001b[1m5.389 ms\u001b[22m\u001b[39m ± \u001b[32m 1.091 ms\u001b[39m  \u001b[90m┊\u001b[39m GC \u001b[90m(\u001b[39mmean ± σ\u001b[90m):  \u001b[39m6.02% ± 11.65%\n",
       "\n",
       "  \u001b[39m█\u001b[34m▅\u001b[39m\u001b[39m \u001b[39m \u001b[39m \u001b[39m \u001b[32m \u001b[39m\u001b[39m \u001b[39m \u001b[39m \u001b[39m \u001b[39m \u001b[39m \u001b[39m \u001b[39m \u001b[39m \u001b[39m \u001b[39m \u001b[39m \u001b[39m \u001b[39m \u001b[39m \u001b[39m \u001b[39m \u001b[39m \u001b[39m \u001b[39m \u001b[39m \u001b[39m \u001b[39m \u001b[39m \u001b[39m \u001b[39m \u001b[39m \u001b[39m \u001b[39m \u001b[39m \u001b[39m \u001b[39m \u001b[39m \u001b[39m \u001b[39m \u001b[39m \u001b[39m \u001b[39m \u001b[39m \u001b[39m \u001b[39m \u001b[39m \u001b[39m \u001b[39m \u001b[39m \u001b[39m \u001b[39m \u001b[39m \u001b[39m \u001b[39m▂\u001b[39m \u001b[39m \u001b[39m \n",
       "  \u001b[39m█\u001b[34m█\u001b[39m\u001b[39m█\u001b[39m▅\u001b[39m▄\u001b[39m▁\u001b[32m▆\u001b[39m\u001b[39m▅\u001b[39m▄\u001b[39m▃\u001b[39m▁\u001b[39m▁\u001b[39m▃\u001b[39m▁\u001b[39m▃\u001b[39m▅\u001b[39m▁\u001b[39m▁\u001b[39m▁\u001b[39m▁\u001b[39m▁\u001b[39m▁\u001b[39m▁\u001b[39m▁\u001b[39m▁\u001b[39m▁\u001b[39m▁\u001b[39m▁\u001b[39m▁\u001b[39m▁\u001b[39m▁\u001b[39m▁\u001b[39m▁\u001b[39m▁\u001b[39m▁\u001b[39m▁\u001b[39m▁\u001b[39m▁\u001b[39m▁\u001b[39m▁\u001b[39m▁\u001b[39m▁\u001b[39m▁\u001b[39m▁\u001b[39m▁\u001b[39m▁\u001b[39m▁\u001b[39m▁\u001b[39m▁\u001b[39m▁\u001b[39m▁\u001b[39m▁\u001b[39m▁\u001b[39m▁\u001b[39m▁\u001b[39m█\u001b[39m█\u001b[39m█\u001b[39m \u001b[39m▇\n",
       "  4.98 ms\u001b[90m      \u001b[39m\u001b[90mHistogram: \u001b[39m\u001b[90m\u001b[1mlog(\u001b[22m\u001b[39m\u001b[90mfrequency\u001b[39m\u001b[90m\u001b[1m)\u001b[22m\u001b[39m\u001b[90m by time\u001b[39m      8.9 ms \u001b[0m\u001b[1m<\u001b[22m\n",
       "\n",
       " Memory estimate\u001b[90m: \u001b[39m\u001b[33m3.97 MiB\u001b[39m, allocs estimate\u001b[90m: \u001b[39m\u001b[33m54751\u001b[39m."
      ]
     },
     "execution_count": 11,
     "metadata": {},
     "output_type": "execute_result"
    }
   ],
   "source": [
    "@benchmark solution(input)"
   ]
  },
  {
   "cell_type": "markdown",
   "id": "1bca8db4-db0c-4c81-af3e-927e81682527",
   "metadata": {},
   "source": [
    "# Part 2"
   ]
  },
  {
   "cell_type": "code",
   "execution_count": 12,
   "id": "6edc5646-11e7-4c75-b7f5-c755b9246b7e",
   "metadata": {
    "execution": {
     "iopub.execute_input": "2023-12-07T21:19:08.367000-07:00",
     "iopub.status.busy": "2023-12-07T21:19:08.367000-07:00",
     "iopub.status.idle": "2023-12-07T21:19:08.369000-07:00",
     "shell.execute_reply": "2023-12-07T21:19:08.369000-07:00"
    },
    "tags": []
   },
   "outputs": [
    {
     "data": {
      "text/plain": [
       "Dict{Char, Int64} with 13 entries:\n",
       "  'K' => 13\n",
       "  'J' => 0\n",
       "  '7' => 7\n",
       "  '6' => 6\n",
       "  '9' => 9\n",
       "  'T' => 10\n",
       "  '5' => 5\n",
       "  'A' => 14\n",
       "  '3' => 3\n",
       "  '2' => 2\n",
       "  '4' => 4\n",
       "  '8' => 8\n",
       "  'Q' => 12"
      ]
     },
     "execution_count": 12,
     "metadata": {},
     "output_type": "execute_result"
    }
   ],
   "source": [
    "card2val = Dict('A'=>14,'K'=>13,'Q'=>12,'J'=>0,'T'=>10,'9'=>9,'8'=>8,'7'=>7,'6'=>6,'5'=>5,'4'=>4,'3'=>3,'2'=>2)"
   ]
  },
  {
   "cell_type": "code",
   "execution_count": 29,
   "id": "ca408736-5276-4dd5-9c3e-52629fc25b56",
   "metadata": {
    "execution": {
     "iopub.execute_input": "2023-12-07T21:21:39.313000-07:00",
     "iopub.status.busy": "2023-12-07T21:21:39.313000-07:00",
     "iopub.status.idle": "2023-12-07T21:21:39.316000-07:00",
     "shell.execute_reply": "2023-12-07T21:21:39.316000-07:00"
    },
    "tags": []
   },
   "outputs": [
    {
     "data": {
      "text/plain": [
       "ingest_input (generic function with 1 method)"
      ]
     },
     "execution_count": 29,
     "metadata": {},
     "output_type": "execute_result"
    }
   ],
   "source": [
    "function ingest_input(input)\n",
    "    sinput = split.(input,\" \")\n",
    "    bid_vec = map(x->parse(Int,x[2]),sinput);\n",
    "    hand_vec = zeros(Int,length(bid_vec),5);\n",
    "    for i=1:length(bid_vec)\n",
    "        hand_vec[i,:] .= map(x->card2val[x],collect(sinput[i][1]))\n",
    "    end\n",
    "    return bid_vec, hand_vec\n",
    "end"
   ]
  },
  {
   "cell_type": "code",
   "execution_count": 65,
   "id": "09fe22f1-f782-4400-9b6d-0bcb74dce4ec",
   "metadata": {
    "execution": {
     "iopub.execute_input": "2023-12-07T21:31:05.403000-07:00",
     "iopub.status.busy": "2023-12-07T21:31:05.403000-07:00",
     "iopub.status.idle": "2023-12-07T21:31:05.405000-07:00",
     "shell.execute_reply": "2023-12-07T21:31:05.405000-07:00"
    },
    "tags": []
   },
   "outputs": [
    {
     "data": {
      "text/plain": [
       "get_replace_value (generic function with 1 method)"
      ]
     },
     "execution_count": 65,
     "metadata": {},
     "output_type": "execute_result"
    }
   ],
   "source": [
    "function get_replace_value(handJfree)\n",
    "    if length(handJfree)==0\n",
    "        return 14\n",
    "    else\n",
    "        f = freqtable(handJfree)\n",
    "        return sort(f.dicts[1].keys[findall(f.array.==maximum(f.array))],rev=true)[1]\n",
    "    end\n",
    "end"
   ]
  },
  {
   "cell_type": "code",
   "execution_count": 66,
   "id": "35bf7c5f-c84a-45ac-9b4d-f753642bd67e",
   "metadata": {
    "execution": {
     "iopub.execute_input": "2023-12-07T21:31:07.117000-07:00",
     "iopub.status.busy": "2023-12-07T21:31:07.117000-07:00",
     "iopub.status.idle": "2023-12-07T21:31:07.120000-07:00",
     "shell.execute_reply": "2023-12-07T21:31:07.119000-07:00"
    },
    "tags": []
   },
   "outputs": [
    {
     "data": {
      "text/plain": [
       "type_hand (generic function with 1 method)"
      ]
     },
     "execution_count": 66,
     "metadata": {},
     "output_type": "execute_result"
    }
   ],
   "source": [
    "function type_hand(hand)\n",
    "    mskJ = (hand.==0)\n",
    "    rval = get_replace_value(hand[.!mskJ])\n",
    "    thand = copy(hand)\n",
    "    thand[mskJ].=rval\n",
    "    g = freqtable(thand)\n",
    "    if maximum(g.array) == 5 # five of a kind\n",
    "        return 7\n",
    "    elseif maximum(g.array) == 4 # four of a kind\n",
    "        return 6\n",
    "    elseif (g.array == [2, 3]) .| (g.array == [3, 2]) # full house\n",
    "        return 5\n",
    "    elseif maximum(g.array) == 3 # three of a kind\n",
    "        return 4\n",
    "    elseif count(g.array .== 2) == 2 # two pair\n",
    "        return 3\n",
    "    elseif maximum(g.array) == 2 # pair\n",
    "        return 2\n",
    "    elseif length(g.array) == 5 # high card\n",
    "        return 1\n",
    "    end\n",
    "end"
   ]
  },
  {
   "cell_type": "code",
   "execution_count": 67,
   "id": "cf6e02ea-646e-4a02-99ff-8867279f7a23",
   "metadata": {
    "execution": {
     "iopub.execute_input": "2023-12-07T21:31:07.579000-07:00",
     "iopub.status.busy": "2023-12-07T21:31:07.579000-07:00",
     "iopub.status.idle": "2023-12-07T21:31:07.583000-07:00",
     "shell.execute_reply": "2023-12-07T21:31:07.583000-07:00"
    },
    "tags": []
   },
   "outputs": [
    {
     "data": {
      "text/plain": [
       "solution (generic function with 1 method)"
      ]
     },
     "execution_count": 67,
     "metadata": {},
     "output_type": "execute_result"
    }
   ],
   "source": [
    "function solution(input)\n",
    "    bid_vec, hand_vec = ingest_input(input)\n",
    "    handtype_vec = map(x->type_hand(x),eachrow(hand_vec))\n",
    "    hand_and_index = hcat(hand_vec,1:size(hand_vec,1))\n",
    "    indvec = []\n",
    "    for i=7:-1:1\n",
    "        msk = (handtype_vec .== i)\n",
    "        sort_mat = sortslices(hand_and_index[msk,:], dims=1, by=x->(x[1], x[2], x[3], x[4], x[5]),rev=true)\n",
    "        push!(indvec,sort_mat[:,6]...)\n",
    "    end\n",
    "    return sum(bid_vec[indvec].*(size(hand_vec,1):-1:1))\n",
    "end"
   ]
  },
  {
   "cell_type": "code",
   "execution_count": 71,
   "id": "01208846-c722-433b-8338-17540931ed2e",
   "metadata": {
    "execution": {
     "iopub.execute_input": "2023-12-07T21:31:31.339000-07:00",
     "iopub.status.busy": "2023-12-07T21:31:31.339000-07:00",
     "iopub.status.idle": "2023-12-07T21:31:32.298000-07:00",
     "shell.execute_reply": "2023-12-07T21:31:32.297000-07:00"
    },
    "tags": []
   },
   "outputs": [
    {
     "data": {
      "text/plain": [
       "5905"
      ]
     },
     "execution_count": 71,
     "metadata": {},
     "output_type": "execute_result"
    }
   ],
   "source": [
    "solution(input_test)"
   ]
  },
  {
   "cell_type": "code",
   "execution_count": 72,
   "id": "aa316919-83bc-477a-894c-e56112a6dcc7",
   "metadata": {
    "execution": {
     "iopub.execute_input": "2023-12-07T21:31:33.449000-07:00",
     "iopub.status.busy": "2023-12-07T21:31:33.449000-07:00",
     "iopub.status.idle": "2023-12-07T21:31:33.457000-07:00",
     "shell.execute_reply": "2023-12-07T21:31:33.457000-07:00"
    },
    "tags": []
   },
   "outputs": [
    {
     "data": {
      "text/plain": [
       "248256639"
      ]
     },
     "execution_count": 72,
     "metadata": {},
     "output_type": "execute_result"
    }
   ],
   "source": [
    "solution(input)"
   ]
  },
  {
   "cell_type": "code",
   "execution_count": null,
   "id": "de2de95f-02dc-47a4-a6f3-f4b5d4012c6c",
   "metadata": {},
   "outputs": [],
   "source": [
    "248256639"
   ]
  }
 ],
 "metadata": {
  "kernelspec": {
   "display_name": "Julia 1.9.2",
   "language": "julia",
   "name": "julia-1.9"
  },
  "language_info": {
   "file_extension": ".jl",
   "mimetype": "application/julia",
   "name": "julia",
   "version": "1.9.2"
  }
 },
 "nbformat": 4,
 "nbformat_minor": 5
}
