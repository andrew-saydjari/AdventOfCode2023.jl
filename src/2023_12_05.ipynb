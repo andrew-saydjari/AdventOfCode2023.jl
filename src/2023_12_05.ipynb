{
 "cells": [
  {
   "cell_type": "markdown",
   "id": "42a66f08-0c62-4de3-ad11-3c19276b454a",
   "metadata": {},
   "source": [
    "# Imports"
   ]
  },
  {
   "cell_type": "code",
   "execution_count": 149,
   "id": "5c6f11f4-90ef-48e2-ab52-25c91c2050d7",
   "metadata": {
    "execution": {
     "iopub.execute_input": "2023-12-05T21:39:53.256000-07:00",
     "iopub.status.busy": "2023-12-05T21:39:53.255000-07:00",
     "iopub.status.idle": "2023-12-05T21:39:53.261000-07:00",
     "shell.execute_reply": "2023-12-05T21:39:53.261000-07:00"
    },
    "tags": []
   },
   "outputs": [
    {
     "name": "stderr",
     "output_type": "stream",
     "text": [
      "\u001b[32m\u001b[1m  Activating\u001b[22m\u001b[39m project at `/uufs/chpc.utah.edu/common/home/sdss42/sdsswork/users/u6039752-1/software/AdventOfCode2023.jl`\n"
     ]
    }
   ],
   "source": [
    "import Pkg\n",
    "basedir = \"../\"\n",
    "Pkg.activate(basedir)\n",
    "using BenchmarkTools\n",
    "\n",
    "input = readlines(basedir*\"data/input_05.txt\")\n",
    "input_test = readlines(basedir*\"data/input_05t.txt\");"
   ]
  },
  {
   "cell_type": "markdown",
   "id": "48c161bf-f22b-44d7-98c8-1179f432bcd2",
   "metadata": {},
   "source": [
    "# Part 1"
   ]
  },
  {
   "cell_type": "code",
   "execution_count": 5,
   "id": "b0611a21-a7f1-46ac-88e2-141ed5cdb0c3",
   "metadata": {
    "execution": {
     "iopub.execute_input": "2023-12-05T20:44:12.685000-07:00",
     "iopub.status.busy": "2023-12-05T20:44:12.685000-07:00",
     "iopub.status.idle": "2023-12-05T20:44:32.241000-07:00",
     "shell.execute_reply": "2023-12-05T20:44:32.240000-07:00"
    }
   },
   "outputs": [
    {
     "data": {
      "text/plain": [
       "457535844"
      ]
     },
     "execution_count": 5,
     "metadata": {},
     "output_type": "execute_result"
    }
   ],
   "source": [
    "function get_maps(input)\n",
    "    map_splits = findall(input.==\"\")\n",
    "    map_lsts = []\n",
    "    for i=1:length(map_splits)\n",
    "        if i < length(map_splits)\n",
    "            push!(map_lsts,input[(map_splits[i]+2):(map_splits[i+1]-1)])\n",
    "        else\n",
    "            push!(map_lsts,input[(map_splits[i]+2):end])\n",
    "        end\n",
    "    end\n",
    "    return map_lsts\n",
    "end\n",
    "\n",
    "function translate_map(old_prop_in,map_current)\n",
    "    new_prop_out = copy(old_prop_in)\n",
    "    for i=1:length(map_current)\n",
    "        dest_start, source_start, rlen = parse.(Int,split(map_current[i],\" \"))\n",
    "        msk = (source_start .<= old_prop_in .<= (source_start+rlen-1))\n",
    "        if count(msk) != 0\n",
    "            ind2change = findall(msk)\n",
    "            for ind in ind2change\n",
    "                refindx = findfirst((source_start:(source_start+rlen-1)).==old_prop_in[ind])\n",
    "                new_prop_out[ind] = (dest_start:(dest_start+rlen-1))[refindx]\n",
    "            end\n",
    "        end \n",
    "    end\n",
    "    return new_prop_out\n",
    "end\n",
    "\n",
    "function chain_translate(seeds,map_lsts)\n",
    "    property_vec = []\n",
    "    push!(property_vec,seeds)\n",
    "    for (indx, map_current) in enumerate(map_lsts)\n",
    "        push!(property_vec,translate_map(property_vec[indx],map_current))\n",
    "    end\n",
    "    return property_vec\n",
    "end\n",
    "\n",
    "seeds = parse.(Int,split(input_test[1],\" \")[2:end])\n",
    "map_lsts = get_maps(input_test)\n",
    "property_vec = chain_translate(seeds,map_lsts)\n",
    "minimum(property_vec[end])\n",
    "\n",
    "seeds = parse.(Int,split(input[1],\" \")[2:end])\n",
    "map_lsts = get_maps(input)\n",
    "property_vec = chain_translate(seeds,map_lsts)\n",
    "minimum(property_vec[end])\n",
    "\n",
    "function solution(input)\n",
    "    seeds = parse.(Int,split(input[1],\" \")[2:end])\n",
    "    map_lsts = get_maps(input)\n",
    "    property_vec = chain_translate(seeds,map_lsts)\n",
    "    return minimum(property_vec[end])\n",
    "end\n",
    "\n",
    "solution(input)"
   ]
  },
  {
   "cell_type": "markdown",
   "id": "aa9f5451-df19-41d8-a6e8-5fcb0d6c972f",
   "metadata": {},
   "source": [
    "# Part 2"
   ]
  },
  {
   "cell_type": "code",
   "execution_count": 7,
   "id": "2f84d095-43ca-4e36-bbc8-c84597cde8e3",
   "metadata": {
    "execution": {
     "iopub.execute_input": "2023-12-05T20:44:40.300000-07:00",
     "iopub.status.busy": "2023-12-05T20:44:40.300000-07:00",
     "iopub.status.idle": "2023-12-05T20:44:40.389000-07:00",
     "shell.execute_reply": "2023-12-05T20:44:40.389000-07:00"
    }
   },
   "outputs": [
    {
     "data": {
      "text/plain": [
       "make_seed_tuples (generic function with 1 method)"
      ]
     },
     "execution_count": 7,
     "metadata": {},
     "output_type": "execute_result"
    }
   ],
   "source": [
    "function make_seed_tuples(input)\n",
    "    seeds = parse.(Int,split(input[1],\" \")[2:end])\n",
    "    seed_tuples = []\n",
    "    for i=1:(length(seeds)÷2)\n",
    "        push!(seed_tuples,(seeds[2*(i-1)+1],seeds[2*(i-1)+2]))\n",
    "    end\n",
    "    return seed_tuples\n",
    "end"
   ]
  },
  {
   "cell_type": "code",
   "execution_count": null,
   "id": "8df8f232-9f96-46eb-b779-04c2bf6bcbba",
   "metadata": {},
   "outputs": [],
   "source": [
    "        # low_end = maximum([sourcetup[1],intup[1]])\n",
    "        # low_offset = low_end - sourcetup[1]\n",
    "        # high_end = minimum([sourcetup[1]+sourcetup[2]-1,intup[1]+intup[2]-1])\n",
    "        # high_offset = high_end - (sourcetup[1]+sourcetup[2]-1)"
   ]
  },
  {
   "cell_type": "code",
   "execution_count": 153,
   "id": "a44d9158-8f6a-47ce-b16e-32cdbea9dada",
   "metadata": {
    "execution": {
     "iopub.execute_input": "2023-12-05T21:41:14.486000-07:00",
     "iopub.status.busy": "2023-12-05T21:41:14.486000-07:00",
     "iopub.status.idle": "2023-12-05T21:41:14.488000-07:00",
     "shell.execute_reply": "2023-12-05T21:41:14.488000-07:00"
    },
    "tags": []
   },
   "outputs": [
    {
     "data": {
      "text/plain": [
       "(Any[], [(55, 13)])"
      ]
     },
     "execution_count": 153,
     "metadata": {},
     "output_type": "execute_result"
    }
   ],
   "source": [
    "input_tup = make_seed_tuples(input_test)\n",
    "map_lsts = get_maps(input_test)\n",
    "dest_start, source_start, rlen = parse.(Int,split(map_lsts[1][1],\" \"))\n",
    "sourcetup = (source_start,rlen)\n",
    "desttup = (dest_start,rlen)\n",
    "trans_lst, same_lst = transform_tuple(input_tup[2],sourcetup,desttup)"
   ]
  },
  {
   "cell_type": "code",
   "execution_count": 101,
   "id": "2b662d1e-3813-41a1-9fe5-5e0724a897d8",
   "metadata": {
    "execution": {
     "iopub.execute_input": "2023-12-05T21:18:06.666000-07:00",
     "iopub.status.busy": "2023-12-05T21:18:06.666000-07:00",
     "iopub.status.idle": "2023-12-05T21:18:06.666000-07:00",
     "shell.execute_reply": "2023-12-05T21:18:06.666000-07:00"
    },
    "tags": []
   },
   "outputs": [
    {
     "data": {
      "text/plain": [
       "((79, 14), (98, 2))"
      ]
     },
     "execution_count": 101,
     "metadata": {},
     "output_type": "execute_result"
    }
   ],
   "source": [
    "input_tup[1], sourcetup"
   ]
  },
  {
   "cell_type": "code",
   "execution_count": 102,
   "id": "c0a7a6c1-5dff-40b0-b505-d59bd785c931",
   "metadata": {
    "execution": {
     "iopub.execute_input": "2023-12-05T21:18:06.808000-07:00",
     "iopub.status.busy": "2023-12-05T21:18:06.808000-07:00",
     "iopub.status.idle": "2023-12-05T21:18:06.808000-07:00",
     "shell.execute_reply": "2023-12-05T21:18:06.808000-07:00"
    },
    "tags": []
   },
   "outputs": [
    {
     "data": {
      "text/plain": [
       "92"
      ]
     },
     "execution_count": 102,
     "metadata": {},
     "output_type": "execute_result"
    }
   ],
   "source": [
    "input_tup[1][1]+input_tup[1][2]-1"
   ]
  },
  {
   "cell_type": "code",
   "execution_count": 103,
   "id": "f8bf5304-0b71-4364-b8a9-c9529d0d3035",
   "metadata": {
    "execution": {
     "iopub.execute_input": "2023-12-05T21:18:06.988000-07:00",
     "iopub.status.busy": "2023-12-05T21:18:06.988000-07:00",
     "iopub.status.idle": "2023-12-05T21:18:06.988000-07:00",
     "shell.execute_reply": "2023-12-05T21:18:06.988000-07:00"
    },
    "tags": []
   },
   "outputs": [
    {
     "data": {
      "text/plain": [
       "(79, 14)"
      ]
     },
     "execution_count": 103,
     "metadata": {},
     "output_type": "execute_result"
    }
   ],
   "source": [
    "input_tup[1]"
   ]
  },
  {
   "cell_type": "code",
   "execution_count": 104,
   "id": "94a29ab6-b5e5-4486-8ae7-0bf54aa46600",
   "metadata": {
    "execution": {
     "iopub.execute_input": "2023-12-05T21:18:07.150000-07:00",
     "iopub.status.busy": "2023-12-05T21:18:07.150000-07:00",
     "iopub.status.idle": "2023-12-05T21:18:07.150000-07:00",
     "shell.execute_reply": "2023-12-05T21:18:07.150000-07:00"
    },
    "tags": []
   },
   "outputs": [
    {
     "data": {
      "text/plain": [
       "99"
      ]
     },
     "execution_count": 104,
     "metadata": {},
     "output_type": "execute_result"
    }
   ],
   "source": [
    "sourcetup[1]+sourcetup[2]-1"
   ]
  },
  {
   "cell_type": "code",
   "execution_count": 105,
   "id": "1b43a236-1cf3-4b34-ac95-cec75911f7d3",
   "metadata": {
    "execution": {
     "iopub.execute_input": "2023-12-05T21:18:07.306000-07:00",
     "iopub.status.busy": "2023-12-05T21:18:07.306000-07:00",
     "iopub.status.idle": "2023-12-05T21:18:07.751000-07:00",
     "shell.execute_reply": "2023-12-05T21:18:07.751000-07:00"
    },
    "tags": []
   },
   "outputs": [
    {
     "data": {
      "text/plain": [
       "([(25, 2)], Any[])"
      ]
     },
     "execution_count": 105,
     "metadata": {},
     "output_type": "execute_result"
    }
   ],
   "source": [
    "out_tup, offset_tup = transform_tuple((10,2),(5,10),(20,10))"
   ]
  },
  {
   "cell_type": "code",
   "execution_count": 106,
   "id": "154bf93f-3160-4746-a43c-e38dee7402bd",
   "metadata": {
    "execution": {
     "iopub.execute_input": "2023-12-05T21:18:07.751000-07:00",
     "iopub.status.busy": "2023-12-05T21:18:07.751000-07:00",
     "iopub.status.idle": "2023-12-05T21:18:07.752000-07:00",
     "shell.execute_reply": "2023-12-05T21:18:07.752000-07:00"
    },
    "tags": []
   },
   "outputs": [
    {
     "data": {
      "text/plain": [
       "([(20, 7)], [(2, 3)])"
      ]
     },
     "execution_count": 106,
     "metadata": {},
     "output_type": "execute_result"
    }
   ],
   "source": [
    "out_tup, offset_tup = transform_tuple((2,10),(5,10),(20,10))"
   ]
  },
  {
   "cell_type": "code",
   "execution_count": 107,
   "id": "e7edabd2-6d98-4808-981b-fbf5b3eb4fbb",
   "metadata": {
    "execution": {
     "iopub.execute_input": "2023-12-05T21:18:11.328000-07:00",
     "iopub.status.busy": "2023-12-05T21:18:11.328000-07:00",
     "iopub.status.idle": "2023-12-05T21:18:11.329000-07:00",
     "shell.execute_reply": "2023-12-05T21:18:11.328000-07:00"
    },
    "tags": []
   },
   "outputs": [
    {
     "data": {
      "text/plain": [
       "([(25, 5)], [(15, 5)])"
      ]
     },
     "execution_count": 107,
     "metadata": {},
     "output_type": "execute_result"
    }
   ],
   "source": [
    "transform_tuple((10,10),(5,10),(20,10))"
   ]
  },
  {
   "cell_type": "code",
   "execution_count": 111,
   "id": "3efc9a3f-0a87-46da-8e8a-2c6517ef702d",
   "metadata": {
    "execution": {
     "iopub.execute_input": "2023-12-05T21:22:55.432000-07:00",
     "iopub.status.busy": "2023-12-05T21:22:55.432000-07:00",
     "iopub.status.idle": "2023-12-05T21:22:55.454000-07:00",
     "shell.execute_reply": "2023-12-05T21:22:55.454000-07:00"
    },
    "tags": []
   },
   "outputs": [
    {
     "data": {
      "text/plain": [
       "([(20, 10)], [(2, 3), (15, 7)])"
      ]
     },
     "execution_count": 111,
     "metadata": {},
     "output_type": "execute_result"
    }
   ],
   "source": [
    "transform_tuple((2,20),(5,10),(20,10))"
   ]
  },
  {
   "cell_type": "code",
   "execution_count": 143,
   "id": "70cca460-aa0f-4b26-97ef-7eff0c3f3cf5",
   "metadata": {
    "execution": {
     "iopub.execute_input": "2023-12-05T21:36:43.678000-07:00",
     "iopub.status.busy": "2023-12-05T21:36:43.678000-07:00",
     "iopub.status.idle": "2023-12-05T21:36:43.684000-07:00",
     "shell.execute_reply": "2023-12-05T21:36:43.684000-07:00"
    }
   },
   "outputs": [
    {
     "data": {
      "text/plain": [
       "transform_tuple (generic function with 1 method)"
      ]
     },
     "execution_count": 143,
     "metadata": {},
     "output_type": "execute_result"
    }
   ],
   "source": [
    "function transform_tuple(intup,sourcetup,desttup)\n",
    "    out_lst = []\n",
    "    if (sourcetup[1] <= intup[1]) & (intup[1]+intup[2]-1 <= sourcetup[1]+sourcetup[2]-1)\n",
    "        dvec = intup[1] - sourcetup[1]\n",
    "        return [(desttup[1]+dvec, intup[2])], []\n",
    "    elseif (intup[1] <= sourcetup[1]) & (sourcetup[1] <= intup[1]+intup[2]-1 <= sourcetup[1]+sourcetup[2]-1)\n",
    "        dvec = sourcetup[1]-intup[1]\n",
    "        return [(desttup[1],intup[2]-dvec)],[(intup[1],dvec)]\n",
    "    elseif (sourcetup[1] <= intup[1] <= sourcetup[1]+sourcetup[2]-1) & (sourcetup[1]+sourcetup[2]-1 <= intup[1]+intup[2]-1)\n",
    "        dvec = sourcetup[1]+sourcetup[2]-intup[1]\n",
    "        return [(desttup[1]+desttup[2]-dvec,dvec)], [(intup[1]+dvec,intup[2]-dvec)]\n",
    "    elseif (intup[1] <= sourcetup[1]) & (sourcetup[1]+sourcetup[2]-1 <= intup[1]+intup[2]-1)\n",
    "        dvec_left = sourcetup[1]-intup[1]\n",
    "        dvec_right = sourcetup[1]+sourcetup[2]-intup[1]\n",
    "        return [desttup], [(intup[1],dvec_left),(intup[1]+dvec_right,intup[2]-dvec_right)]\n",
    "    else\n",
    "        return [], [intup]\n",
    "    end\n",
    "end"
   ]
  },
  {
   "cell_type": "code",
   "execution_count": 141,
   "id": "49e1d504-a229-4fe7-b602-25006641a2dd",
   "metadata": {
    "execution": {
     "iopub.execute_input": "2023-12-05T21:36:33.913000-07:00",
     "iopub.status.busy": "2023-12-05T21:36:33.913000-07:00",
     "iopub.status.idle": "2023-12-05T21:36:33.999000-07:00",
     "shell.execute_reply": "2023-12-05T21:36:33.999000-07:00"
    },
    "tags": []
   },
   "outputs": [
    {
     "data": {
      "text/plain": [
       "translate_tup_via_map (generic function with 1 method)"
      ]
     },
     "execution_count": 141,
     "metadata": {},
     "output_type": "execute_result"
    }
   ],
   "source": [
    "function translate_tup_via_map(old_prop_in_tup,map_current)\n",
    "    old_tup_lst = old_prop_in_tup\n",
    "    new_tup_lst = []\n",
    "    for mapindx=1:length(map_current)\n",
    "        dest_start, source_start, rlen = parse.(Int,split(map_current[mapindx],\" \"))\n",
    "        sourcetup = (source_start,rlen)\n",
    "        desttup = (dest_start,rlen)\n",
    "        trans_lst_outer = []\n",
    "        same_lst_outer = []\n",
    "        for i=1:length(old_tup_lst)\n",
    "            trans_lst, same_lst = transform_tuple(old_tup_lst[i],sourcetup,desttup)\n",
    "            push!(trans_lst_outer,trans_lst)\n",
    "            push!(same_lst_outer,same_lst)\n",
    "        end\n",
    "        old_tup_lst = vcat(same_lst_outer...)\n",
    "        push!(new_tup_lst,trans_lst_outer...)\n",
    "    end\n",
    "    push!(new_tup_lst,old_tup_lst...)\n",
    "    result_lst = vcat(new_tup_lst...)\n",
    "    return result_lst\n",
    "end"
   ]
  },
  {
   "cell_type": "code",
   "execution_count": 133,
   "id": "30e1edd8-d668-4844-ba5e-bfbc0224155c",
   "metadata": {
    "execution": {
     "iopub.execute_input": "2023-12-05T21:33:56.110000-07:00",
     "iopub.status.busy": "2023-12-05T21:33:56.110000-07:00",
     "iopub.status.idle": "2023-12-05T21:33:56.123000-07:00",
     "shell.execute_reply": "2023-12-05T21:33:56.123000-07:00"
    }
   },
   "outputs": [
    {
     "data": {
      "text/plain": [
       "2-element Vector{Any}:\n",
       " Any[Any[], Any[]]\n",
       " Any[[(81, 14)], [(57, 13)]]"
      ]
     },
     "execution_count": 133,
     "metadata": {},
     "output_type": "execute_result"
    }
   ],
   "source": [
    "new_tup_lst"
   ]
  },
  {
   "cell_type": "code",
   "execution_count": 128,
   "id": "042791cd-1f49-4907-91b1-894b4ea42431",
   "metadata": {
    "execution": {
     "iopub.execute_input": "2023-12-05T21:32:59.385000-07:00",
     "iopub.status.busy": "2023-12-05T21:32:59.385000-07:00",
     "iopub.status.idle": "2023-12-05T21:32:59.386000-07:00",
     "shell.execute_reply": "2023-12-05T21:32:59.386000-07:00"
    },
    "tags": []
   },
   "outputs": [
    {
     "data": {
      "text/plain": [
       "Any[]"
      ]
     },
     "execution_count": 128,
     "metadata": {},
     "output_type": "execute_result"
    }
   ],
   "source": [
    "old_tup_lst"
   ]
  },
  {
   "cell_type": "code",
   "execution_count": 129,
   "id": "888826c0-911a-448b-b4c6-31178ee97da2",
   "metadata": {
    "execution": {
     "iopub.execute_input": "2023-12-05T21:32:59.831000-07:00",
     "iopub.status.busy": "2023-12-05T21:32:59.831000-07:00",
     "iopub.status.idle": "2023-12-05T21:32:59.834000-07:00",
     "shell.execute_reply": "2023-12-05T21:32:59.834000-07:00"
    },
    "tags": []
   },
   "outputs": [
    {
     "data": {
      "text/plain": [
       "2-element Vector{Any}:\n",
       " Any[Any[], Any[]]\n",
       " Any[[(81, 14)], [(57, 13)]]"
      ]
     },
     "execution_count": 129,
     "metadata": {},
     "output_type": "execute_result"
    }
   ],
   "source": [
    "new_tup_lst"
   ]
  },
  {
   "cell_type": "code",
   "execution_count": 125,
   "id": "5f9113f8-f31b-4414-bb2a-a14f0de07728",
   "metadata": {
    "execution": {
     "iopub.execute_input": "2023-12-05T21:31:38.135000-07:00",
     "iopub.status.busy": "2023-12-05T21:31:38.135000-07:00",
     "iopub.status.idle": "2023-12-05T21:31:38.136000-07:00",
     "shell.execute_reply": "2023-12-05T21:31:38.135000-07:00"
    }
   },
   "outputs": [
    {
     "data": {
      "text/plain": [
       "Any[]"
      ]
     },
     "execution_count": 125,
     "metadata": {},
     "output_type": "execute_result"
    }
   ],
   "source": [
    "old_tup_lst"
   ]
  },
  {
   "cell_type": "code",
   "execution_count": 142,
   "id": "ae3d1c3e-3644-4200-85e7-7740c13c305c",
   "metadata": {
    "execution": {
     "iopub.execute_input": "2023-12-05T21:36:39.647000-07:00",
     "iopub.status.busy": "2023-12-05T21:36:39.647000-07:00",
     "iopub.status.idle": "2023-12-05T21:36:39.723000-07:00",
     "shell.execute_reply": "2023-12-05T21:36:39.723000-07:00"
    },
    "tags": []
   },
   "outputs": [
    {
     "data": {
      "text/plain": [
       "2-element Vector{Any}:\n",
       " (81, 14)\n",
       " (57, 13)"
      ]
     },
     "execution_count": 142,
     "metadata": {},
     "output_type": "execute_result"
    }
   ],
   "source": [
    "translate_tup_via_map(input_tup,map_lsts[1])"
   ]
  },
  {
   "cell_type": "code",
   "execution_count": 144,
   "id": "97054473-a28f-43b7-867a-440ea128b5a7",
   "metadata": {
    "execution": {
     "iopub.execute_input": "2023-12-05T21:38:23.851000-07:00",
     "iopub.status.busy": "2023-12-05T21:38:23.851000-07:00",
     "iopub.status.idle": "2023-12-05T21:38:23.853000-07:00",
     "shell.execute_reply": "2023-12-05T21:38:23.853000-07:00"
    },
    "tags": []
   },
   "outputs": [
    {
     "data": {
      "text/plain": [
       "chain_translate (generic function with 1 method)"
      ]
     },
     "execution_count": 144,
     "metadata": {},
     "output_type": "execute_result"
    }
   ],
   "source": [
    "function chain_translate(seeds,map_lsts)\n",
    "    property_vec = []\n",
    "    push!(property_vec,seeds)\n",
    "    for (indx, map_current) in enumerate(map_lsts)\n",
    "        push!(property_vec,translate_tup_via_map(property_vec[indx],map_current))\n",
    "    end\n",
    "    return property_vec\n",
    "end"
   ]
  },
  {
   "cell_type": "code",
   "execution_count": 154,
   "id": "207efc41-2006-4cc9-ae67-daf777129375",
   "metadata": {
    "execution": {
     "iopub.execute_input": "2023-12-05T21:41:17.946000-07:00",
     "iopub.status.busy": "2023-12-05T21:41:17.946000-07:00",
     "iopub.status.idle": "2023-12-05T21:41:17.952000-07:00",
     "shell.execute_reply": "2023-12-05T21:41:17.952000-07:00"
    },
    "tags": []
   },
   "outputs": [
    {
     "data": {
      "text/plain": [
       "8-element Vector{Any}:\n",
       " Any[(79, 14), (55, 13)]\n",
       " Any[(81, 14), (57, 13)]\n",
       " Any[(81, 14), (57, 13)]\n",
       " Any[(53, 4), (81, 14), (61, 9)]\n",
       " Any[(46, 4), (74, 14), (54, 9)]\n",
       " Any[(45, 11), (82, 4), (90, 9), (78, 3)]\n",
       " Any[(46, 11), (82, 4), (90, 9), (78, 3)]\n",
       " Any[(60, 1), (86, 4), (94, 3), (82, 3), (56, 4), (46, 10), (97, 2)]"
      ]
     },
     "execution_count": 154,
     "metadata": {},
     "output_type": "execute_result"
    }
   ],
   "source": [
    "tout = chain_translate(input_tup,map_lsts)"
   ]
  },
  {
   "cell_type": "code",
   "execution_count": 157,
   "id": "fb60bf42-3246-41c2-aecf-53453c2cdb93",
   "metadata": {
    "execution": {
     "iopub.execute_input": "2023-12-05T21:41:41.942000-07:00",
     "iopub.status.busy": "2023-12-05T21:41:41.942000-07:00",
     "iopub.status.idle": "2023-12-05T21:41:41.983000-07:00",
     "shell.execute_reply": "2023-12-05T21:41:41.983000-07:00"
    },
    "tags": []
   },
   "outputs": [
    {
     "data": {
      "text/plain": [
       "46"
      ]
     },
     "execution_count": 157,
     "metadata": {},
     "output_type": "execute_result"
    }
   ],
   "source": [
    "minimum(map(x->x[1],tout[end]))"
   ]
  },
  {
   "cell_type": "code",
   "execution_count": 158,
   "id": "b33def20-e893-42cb-8de6-911dfe3822a4",
   "metadata": {
    "execution": {
     "iopub.execute_input": "2023-12-05T21:41:51.545000-07:00",
     "iopub.status.busy": "2023-12-05T21:41:51.545000-07:00",
     "iopub.status.idle": "2023-12-05T21:41:51.955000-07:00",
     "shell.execute_reply": "2023-12-05T21:41:51.955000-07:00"
    },
    "tags": []
   },
   "outputs": [
    {
     "data": {
      "text/plain": [
       "41222968"
      ]
     },
     "execution_count": 158,
     "metadata": {},
     "output_type": "execute_result"
    }
   ],
   "source": [
    "input_tup = make_seed_tuples(input)\n",
    "map_lsts = get_maps(input)\n",
    "property_vec = chain_translate(input_tup,map_lsts)\n",
    "minimum(map(x->x[1],property_vec[end]))"
   ]
  },
  {
   "cell_type": "code",
   "execution_count": 159,
   "id": "7c034ddc-73d8-4c83-b48f-47778b15cfff",
   "metadata": {
    "execution": {
     "iopub.execute_input": "2023-12-05T21:42:19.881000-07:00",
     "iopub.status.busy": "2023-12-05T21:42:19.881000-07:00",
     "iopub.status.idle": "2023-12-05T21:42:20.279000-07:00",
     "shell.execute_reply": "2023-12-05T21:42:20.279000-07:00"
    }
   },
   "outputs": [
    {
     "data": {
      "text/plain": [
       "41222968"
      ]
     },
     "execution_count": 159,
     "metadata": {},
     "output_type": "execute_result"
    }
   ],
   "source": [
    "function solution(input)\n",
    "    input_tup = make_seed_tuples(input)\n",
    "    map_lsts = get_maps(input)\n",
    "    property_vec = chain_translate(input_tup,map_lsts)\n",
    "    return minimum(map(x->x[1],property_vec[end]))\n",
    "end\n",
    "\n",
    "solution(input)"
   ]
  },
  {
   "cell_type": "code",
   "execution_count": null,
   "id": "153e7860-2bb7-48bc-a7fa-aa23f5328a25",
   "metadata": {},
   "outputs": [],
   "source": []
  }
 ],
 "metadata": {
  "kernelspec": {
   "display_name": "Julia 1.9.2",
   "language": "julia",
   "name": "julia-1.9"
  },
  "language_info": {
   "file_extension": ".jl",
   "mimetype": "application/julia",
   "name": "julia",
   "version": "1.9.2"
  }
 },
 "nbformat": 4,
 "nbformat_minor": 5
}
