{
 "cells": [
  {
   "cell_type": "markdown",
   "id": "2973a37b-1116-4eb0-8ea9-0b046f1bc78c",
   "metadata": {},
   "source": [
    "# Loading Packages"
   ]
  },
  {
   "cell_type": "code",
   "execution_count": 1,
   "id": "734a4f45-c3e1-4c52-a809-0d1fdae8667d",
   "metadata": {
    "execution": {
     "iopub.execute_input": "2023-12-06T20:46:38.966000-07:00",
     "iopub.status.busy": "2023-12-06T20:46:38.429000-07:00",
     "iopub.status.idle": "2023-12-06T20:46:41.266000-07:00",
     "shell.execute_reply": "2023-12-06T20:46:41.234000-07:00"
    }
   },
   "outputs": [
    {
     "name": "stderr",
     "output_type": "stream",
     "text": [
      "\u001b[32m\u001b[1m  Activating\u001b[22m\u001b[39m project at `/uufs/chpc.utah.edu/common/home/sdss42/sdsswork/users/u6039752-1/software/AdventOfCode2023.jl`\n"
     ]
    },
    {
     "data": {
      "text/plain": [
       "2-element Vector{String}:\n",
       " \"Time:        44     82     69     81\"\n",
       " \"Distance:   202   1076   1138   1458\""
      ]
     },
     "execution_count": 1,
     "metadata": {},
     "output_type": "execute_result"
    }
   ],
   "source": [
    "import Pkg\n",
    "basedir = \"../\"\n",
    "Pkg.activate(basedir)\n",
    "using BenchmarkTools\n",
    "\n",
    "input = readlines(basedir*\"data/input_06.txt\")"
   ]
  },
  {
   "cell_type": "code",
   "execution_count": 3,
   "id": "8374d75d-3bf6-4ee8-bf94-9f08bc24e0fe",
   "metadata": {
    "execution": {
     "iopub.execute_input": "2023-12-06T20:49:03.512000-07:00",
     "iopub.status.busy": "2023-12-06T20:49:03.511000-07:00",
     "iopub.status.idle": "2023-12-06T20:49:03.514000-07:00",
     "shell.execute_reply": "2023-12-06T20:49:03.514000-07:00"
    },
    "tags": []
   },
   "outputs": [
    {
     "data": {
      "text/plain": [
       "2-element Vector{String}:\n",
       " \"Time:      7  15   30\"\n",
       " \"Distance:  9  40  200\""
      ]
     },
     "execution_count": 3,
     "metadata": {},
     "output_type": "execute_result"
    }
   ],
   "source": [
    "input_test = readlines(basedir*\"data/input_06t.txt\")"
   ]
  },
  {
   "cell_type": "markdown",
   "id": "70952af9-7569-403b-aa05-5e714892b466",
   "metadata": {},
   "source": [
    "# Part 1"
   ]
  },
  {
   "cell_type": "code",
   "execution_count": 14,
   "id": "9fb13454-2921-4bfc-ba8a-fef9f4d9893d",
   "metadata": {
    "execution": {
     "iopub.execute_input": "2023-12-06T20:51:37.640000-07:00",
     "iopub.status.busy": "2023-12-06T20:51:37.640000-07:00",
     "iopub.status.idle": "2023-12-06T20:51:37.644000-07:00",
     "shell.execute_reply": "2023-12-06T20:51:37.644000-07:00"
    },
    "tags": []
   },
   "outputs": [
    {
     "data": {
      "text/plain": [
       "3-element Vector{Int64}:\n",
       "   9\n",
       "  40\n",
       " 200"
      ]
     },
     "execution_count": 14,
     "metadata": {},
     "output_type": "execute_result"
    }
   ],
   "source": [
    "time_vec = parse.(Int,split(input_test[1],\" \",keepempty=false)[2:end])\n",
    "d_vec = parse.(Int,split(input_test[2],\" \",keepempty=false)[2:end])"
   ]
  },
  {
   "cell_type": "code",
   "execution_count": 16,
   "id": "b479d3e7-f613-4f75-af18-154cad9f240f",
   "metadata": {
    "execution": {
     "iopub.execute_input": "2023-12-06T20:54:21.795000-07:00",
     "iopub.status.busy": "2023-12-06T20:54:21.795000-07:00",
     "iopub.status.idle": "2023-12-06T20:54:21.880000-07:00",
     "shell.execute_reply": "2023-12-06T20:54:21.880000-07:00"
    },
    "tags": []
   },
   "outputs": [
    {
     "data": {
      "text/plain": [
       "get_d_traveled_vec (generic function with 1 method)"
      ]
     },
     "execution_count": 16,
     "metadata": {},
     "output_type": "execute_result"
    }
   ],
   "source": [
    "function get_d_traveled(hold_time,total_time)\n",
    "    return hold_time*(total_time-hold_time)\n",
    "end\n",
    "\n",
    "function get_d_traveled_vec(total_time)\n",
    "    return get_d_traveled.(1:(total_time-1),Ref(total_time))\n",
    "end"
   ]
  },
  {
   "cell_type": "code",
   "execution_count": 18,
   "id": "c6242f92-8cec-43fd-ace1-c7608ce5d5df",
   "metadata": {
    "execution": {
     "iopub.execute_input": "2023-12-06T20:56:12.509000-07:00",
     "iopub.status.busy": "2023-12-06T20:56:12.509000-07:00",
     "iopub.status.idle": "2023-12-06T20:56:12.607000-07:00",
     "shell.execute_reply": "2023-12-06T20:56:12.606000-07:00"
    },
    "tags": []
   },
   "outputs": [
    {
     "data": {
      "text/plain": [
       "get_num_ways2win (generic function with 1 method)"
      ]
     },
     "execution_count": 18,
     "metadata": {},
     "output_type": "execute_result"
    }
   ],
   "source": [
    "function get_num_ways2win(total_time,dmin)\n",
    "    vec_ways = get_d_traveled_vec(total_time)\n",
    "    return count(dmin .< vec_ways)\n",
    "end"
   ]
  },
  {
   "cell_type": "code",
   "execution_count": 21,
   "id": "8bddd0ea-20a0-4896-904f-fca2b0b00f16",
   "metadata": {
    "execution": {
     "iopub.execute_input": "2023-12-06T20:58:56.183000-07:00",
     "iopub.status.busy": "2023-12-06T20:58:56.183000-07:00",
     "iopub.status.idle": "2023-12-06T20:58:56.280000-07:00",
     "shell.execute_reply": "2023-12-06T20:58:56.279000-07:00"
    },
    "tags": []
   },
   "outputs": [
    {
     "data": {
      "text/plain": [
       "solution (generic function with 1 method)"
      ]
     },
     "execution_count": 21,
     "metadata": {},
     "output_type": "execute_result"
    }
   ],
   "source": [
    "function solution(input)\n",
    "    time_vec = parse.(Int,split(input[1],\" \",keepempty=false)[2:end])\n",
    "    d_vec = parse.(Int,split(input[2],\" \",keepempty=false)[2:end])\n",
    "    num_race = length(time_vec)\n",
    "    out_vec = zeros(Int,num_race)\n",
    "    for i = 1:num_race\n",
    "        out_vec[i] = get_num_ways2win(time_vec[i],d_vec[i])\n",
    "    end\n",
    "    return prod(out_vec)\n",
    "end"
   ]
  },
  {
   "cell_type": "code",
   "execution_count": 22,
   "id": "02cb98d9-8c56-43da-8274-59864d8339c3",
   "metadata": {
    "execution": {
     "iopub.execute_input": "2023-12-06T20:59:02.981000-07:00",
     "iopub.status.busy": "2023-12-06T20:59:02.981000-07:00",
     "iopub.status.idle": "2023-12-06T20:59:03.055000-07:00",
     "shell.execute_reply": "2023-12-06T20:59:03.055000-07:00"
    }
   },
   "outputs": [
    {
     "data": {
      "text/plain": [
       "288"
      ]
     },
     "execution_count": 22,
     "metadata": {},
     "output_type": "execute_result"
    }
   ],
   "source": [
    "solution(input_test)"
   ]
  },
  {
   "cell_type": "code",
   "execution_count": 23,
   "id": "43d1afe4-9baa-40db-8aa0-fa435fffe311",
   "metadata": {
    "execution": {
     "iopub.execute_input": "2023-12-06T20:59:15.621000-07:00",
     "iopub.status.busy": "2023-12-06T20:59:15.621000-07:00",
     "iopub.status.idle": "2023-12-06T20:59:15.622000-07:00",
     "shell.execute_reply": "2023-12-06T20:59:15.622000-07:00"
    }
   },
   "outputs": [
    {
     "data": {
      "text/plain": [
       "588588"
      ]
     },
     "execution_count": 23,
     "metadata": {},
     "output_type": "execute_result"
    }
   ],
   "source": [
    "solution(input)"
   ]
  },
  {
   "cell_type": "code",
   "execution_count": 39,
   "id": "488ba992-0089-45b1-9a82-0c4974b312cc",
   "metadata": {
    "execution": {
     "iopub.execute_input": "2023-12-06T21:04:39.455000-07:00",
     "iopub.status.busy": "2023-12-06T21:04:39.455000-07:00",
     "iopub.status.idle": "2023-12-06T21:04:42.753000-07:00",
     "shell.execute_reply": "2023-12-06T21:04:42.753000-07:00"
    }
   },
   "outputs": [
    {
     "data": {
      "text/plain": [
       "BenchmarkTools.Trial: 10000 samples with 8 evaluations.\n",
       " Range \u001b[90m(\u001b[39m\u001b[36m\u001b[1mmin\u001b[22m\u001b[39m … \u001b[35mmax\u001b[39m\u001b[90m):  \u001b[39m\u001b[36m\u001b[1m3.659 μs\u001b[22m\u001b[39m … \u001b[35m243.531 μs\u001b[39m  \u001b[90m┊\u001b[39m GC \u001b[90m(\u001b[39mmin … max\u001b[90m): \u001b[39m0.00% … 96.30%\n",
       " Time  \u001b[90m(\u001b[39m\u001b[34m\u001b[1mmedian\u001b[22m\u001b[39m\u001b[90m):     \u001b[39m\u001b[34m\u001b[1m3.793 μs               \u001b[22m\u001b[39m\u001b[90m┊\u001b[39m GC \u001b[90m(\u001b[39mmedian\u001b[90m):    \u001b[39m0.00%\n",
       " Time  \u001b[90m(\u001b[39m\u001b[32m\u001b[1mmean\u001b[22m\u001b[39m ± \u001b[32mσ\u001b[39m\u001b[90m):   \u001b[39m\u001b[32m\u001b[1m4.137 μs\u001b[22m\u001b[39m ± \u001b[32m  6.274 μs\u001b[39m  \u001b[90m┊\u001b[39m GC \u001b[90m(\u001b[39mmean ± σ\u001b[90m):  \u001b[39m3.92% ±  2.55%\n",
       "\n",
       "  \u001b[39m▁\u001b[39m▅\u001b[39m▇\u001b[39m█\u001b[39m█\u001b[34m▇\u001b[39m\u001b[39m▆\u001b[39m▅\u001b[39m▄\u001b[39m▂\u001b[39m▁\u001b[39m \u001b[39m \u001b[39m \u001b[39m \u001b[39m \u001b[32m \u001b[39m\u001b[39m \u001b[39m \u001b[39m \u001b[39m \u001b[39m \u001b[39m \u001b[39m \u001b[39m \u001b[39m \u001b[39m \u001b[39m \u001b[39m \u001b[39m \u001b[39m▁\u001b[39m▁\u001b[39m \u001b[39m▁\u001b[39m▁\u001b[39m▁\u001b[39m▂\u001b[39m▁\u001b[39m▂\u001b[39m▁\u001b[39m▂\u001b[39m▁\u001b[39m▁\u001b[39m▁\u001b[39m▁\u001b[39m▁\u001b[39m▁\u001b[39m \u001b[39m \u001b[39m \u001b[39m \u001b[39m \u001b[39m \u001b[39m \u001b[39m \u001b[39m \u001b[39m \u001b[39m \u001b[39m \u001b[39m \u001b[39m▂\n",
       "  \u001b[39m█\u001b[39m█\u001b[39m█\u001b[39m█\u001b[39m█\u001b[34m█\u001b[39m\u001b[39m█\u001b[39m█\u001b[39m█\u001b[39m█\u001b[39m█\u001b[39m▇\u001b[39m▆\u001b[39m▆\u001b[39m▆\u001b[39m▆\u001b[32m▆\u001b[39m\u001b[39m▆\u001b[39m▇\u001b[39m▇\u001b[39m▇\u001b[39m▇\u001b[39m▇\u001b[39m▇\u001b[39m█\u001b[39m█\u001b[39m█\u001b[39m█\u001b[39m█\u001b[39m█\u001b[39m█\u001b[39m█\u001b[39m█\u001b[39m█\u001b[39m█\u001b[39m█\u001b[39m█\u001b[39m█\u001b[39m█\u001b[39m█\u001b[39m█\u001b[39m█\u001b[39m█\u001b[39m█\u001b[39m█\u001b[39m█\u001b[39m█\u001b[39m█\u001b[39m█\u001b[39m█\u001b[39m█\u001b[39m█\u001b[39m█\u001b[39m█\u001b[39m▇\u001b[39m▇\u001b[39m▆\u001b[39m▅\u001b[39m▆\u001b[39m \u001b[39m█\n",
       "  3.66 μs\u001b[90m      \u001b[39m\u001b[90mHistogram: \u001b[39m\u001b[90m\u001b[1mlog(\u001b[22m\u001b[39m\u001b[90mfrequency\u001b[39m\u001b[90m\u001b[1m)\u001b[22m\u001b[39m\u001b[90m by time\u001b[39m      5.37 μs \u001b[0m\u001b[1m<\u001b[22m\n",
       "\n",
       " Memory estimate\u001b[90m: \u001b[39m\u001b[33m4.00 KiB\u001b[39m, allocs estimate\u001b[90m: \u001b[39m\u001b[33m22\u001b[39m."
      ]
     },
     "execution_count": 39,
     "metadata": {},
     "output_type": "execute_result"
    }
   ],
   "source": [
    "@benchmark solution(input)"
   ]
  },
  {
   "cell_type": "markdown",
   "id": "f53a6e6c-192e-4b00-b0f5-629f265934b5",
   "metadata": {},
   "source": [
    "# Part 2"
   ]
  },
  {
   "cell_type": "code",
   "execution_count": 32,
   "id": "88345e1f-a777-4438-b794-8b9acb214326",
   "metadata": {
    "execution": {
     "iopub.execute_input": "2023-12-06T21:03:26.463000-07:00",
     "iopub.status.busy": "2023-12-06T21:03:26.463000-07:00",
     "iopub.status.idle": "2023-12-06T21:03:26.465000-07:00",
     "shell.execute_reply": "2023-12-06T21:03:26.465000-07:00"
    },
    "tags": []
   },
   "outputs": [
    {
     "data": {
      "text/plain": [
       "940200"
      ]
     },
     "execution_count": 32,
     "metadata": {},
     "output_type": "execute_result"
    }
   ],
   "source": [
    "time_vec = parse(Int,join(split(input_test[1],\" \",keepempty=false)[2:end]))\n",
    "d_vec = parse(Int,join(split(input_test[2],\" \",keepempty=false)[2:end]))"
   ]
  },
  {
   "cell_type": "code",
   "execution_count": 33,
   "id": "f3a4183f-8eaa-4b15-9feb-c29502dd4f3b",
   "metadata": {
    "execution": {
     "iopub.execute_input": "2023-12-06T21:03:26.887000-07:00",
     "iopub.status.busy": "2023-12-06T21:03:26.887000-07:00",
     "iopub.status.idle": "2023-12-06T21:03:26.887000-07:00",
     "shell.execute_reply": "2023-12-06T21:03:26.887000-07:00"
    },
    "tags": []
   },
   "outputs": [
    {
     "data": {
      "text/plain": [
       "71503"
      ]
     },
     "execution_count": 33,
     "metadata": {},
     "output_type": "execute_result"
    }
   ],
   "source": [
    "get_num_ways2win(time_vec,d_vec)"
   ]
  },
  {
   "cell_type": "code",
   "execution_count": 34,
   "id": "d50f4959-c2e4-40dd-8990-e0b0a638ebdb",
   "metadata": {
    "execution": {
     "iopub.execute_input": "2023-12-06T21:03:43.896000-07:00",
     "iopub.status.busy": "2023-12-06T21:03:43.895000-07:00",
     "iopub.status.idle": "2023-12-06T21:03:43.898000-07:00",
     "shell.execute_reply": "2023-12-06T21:03:43.898000-07:00"
    }
   },
   "outputs": [
    {
     "data": {
      "text/plain": [
       "202107611381458"
      ]
     },
     "execution_count": 34,
     "metadata": {},
     "output_type": "execute_result"
    }
   ],
   "source": [
    "time_vec = parse(Int,join(split(input[1],\" \",keepempty=false)[2:end]))\n",
    "d_vec = parse(Int,join(split(input[2],\" \",keepempty=false)[2:end]))"
   ]
  },
  {
   "cell_type": "code",
   "execution_count": 35,
   "id": "98717df5-22c2-474d-ac89-682e5f439794",
   "metadata": {
    "execution": {
     "iopub.execute_input": "2023-12-06T21:03:50.088000-07:00",
     "iopub.status.busy": "2023-12-06T21:03:50.088000-07:00",
     "iopub.status.idle": "2023-12-06T21:03:50.224000-07:00",
     "shell.execute_reply": "2023-12-06T21:03:50.223000-07:00"
    }
   },
   "outputs": [
    {
     "data": {
      "text/plain": [
       "34655848"
      ]
     },
     "execution_count": 35,
     "metadata": {},
     "output_type": "execute_result"
    }
   ],
   "source": [
    "get_num_ways2win(time_vec,d_vec)"
   ]
  },
  {
   "cell_type": "code",
   "execution_count": 36,
   "id": "6987123a-f1e9-4701-84a5-391026ca3ac5",
   "metadata": {
    "execution": {
     "iopub.execute_input": "2023-12-06T21:04:12.947000-07:00",
     "iopub.status.busy": "2023-12-06T21:04:12.947000-07:00",
     "iopub.status.idle": "2023-12-06T21:04:12.947000-07:00",
     "shell.execute_reply": "2023-12-06T21:04:12.947000-07:00"
    }
   },
   "outputs": [
    {
     "data": {
      "text/plain": [
       "44826981"
      ]
     },
     "execution_count": 36,
     "metadata": {},
     "output_type": "execute_result"
    }
   ],
   "source": [
    "time_vec"
   ]
  },
  {
   "cell_type": "code",
   "execution_count": 37,
   "id": "c59ea7f3-efa6-4bdd-82ec-3cfe2575b19d",
   "metadata": {
    "execution": {
     "iopub.execute_input": "2023-12-06T21:04:16.507000-07:00",
     "iopub.status.busy": "2023-12-06T21:04:16.507000-07:00",
     "iopub.status.idle": "2023-12-06T21:04:16.508000-07:00",
     "shell.execute_reply": "2023-12-06T21:04:16.508000-07:00"
    }
   },
   "outputs": [
    {
     "data": {
      "text/plain": [
       "202107611381458"
      ]
     },
     "execution_count": 37,
     "metadata": {},
     "output_type": "execute_result"
    }
   ],
   "source": [
    "d_vec"
   ]
  },
  {
   "cell_type": "code",
   "execution_count": 38,
   "id": "8b2bd35b-e88e-44f0-b365-23a1985a89b0",
   "metadata": {
    "execution": {
     "iopub.execute_input": "2023-12-06T21:04:24.495000-07:00",
     "iopub.status.busy": "2023-12-06T21:04:24.494000-07:00",
     "iopub.status.idle": "2023-12-06T21:04:39.455000-07:00",
     "shell.execute_reply": "2023-12-06T21:04:39.455000-07:00"
    }
   },
   "outputs": [
    {
     "data": {
      "text/plain": [
       "BenchmarkTools.Trial: 34 samples with 1 evaluation.\n",
       " Range \u001b[90m(\u001b[39m\u001b[36m\u001b[1mmin\u001b[22m\u001b[39m … \u001b[35mmax\u001b[39m\u001b[90m):  \u001b[39m\u001b[36m\u001b[1m137.516 ms\u001b[22m\u001b[39m … \u001b[35m162.111 ms\u001b[39m  \u001b[90m┊\u001b[39m GC \u001b[90m(\u001b[39mmin … max\u001b[90m): \u001b[39m 0.10% … 12.51%\n",
       " Time  \u001b[90m(\u001b[39m\u001b[34m\u001b[1mmedian\u001b[22m\u001b[39m\u001b[90m):     \u001b[39m\u001b[34m\u001b[1m148.955 ms               \u001b[22m\u001b[39m\u001b[90m┊\u001b[39m GC \u001b[90m(\u001b[39mmedian\u001b[90m):    \u001b[39m13.63%\n",
       " Time  \u001b[90m(\u001b[39m\u001b[32m\u001b[1mmean\u001b[22m\u001b[39m ± \u001b[32mσ\u001b[39m\u001b[90m):   \u001b[39m\u001b[32m\u001b[1m149.713 ms\u001b[22m\u001b[39m ± \u001b[32m  3.700 ms\u001b[39m  \u001b[90m┊\u001b[39m GC \u001b[90m(\u001b[39mmean ± σ\u001b[90m):  \u001b[39m13.24% ±  2.33%\n",
       "\n",
       "  \u001b[39m \u001b[39m \u001b[39m \u001b[39m \u001b[39m \u001b[39m \u001b[39m \u001b[39m \u001b[39m \u001b[39m \u001b[39m \u001b[39m \u001b[39m \u001b[39m \u001b[39m \u001b[39m \u001b[39m \u001b[39m \u001b[39m \u001b[39m \u001b[39m \u001b[39m \u001b[39m \u001b[39m \u001b[39m \u001b[39m \u001b[39m▆\u001b[39m▆\u001b[34m█\u001b[39m\u001b[39m▁\u001b[32m▁\u001b[39m\u001b[39m▃\u001b[39m \u001b[39m \u001b[39m \u001b[39m \u001b[39m \u001b[39m \u001b[39m \u001b[39m \u001b[39m \u001b[39m \u001b[39m \u001b[39m \u001b[39m \u001b[39m \u001b[39m \u001b[39m \u001b[39m \u001b[39m \u001b[39m \u001b[39m \u001b[39m \u001b[39m \u001b[39m \u001b[39m \u001b[39m \u001b[39m \u001b[39m \u001b[39m \u001b[39m \u001b[39m \u001b[39m \n",
       "  \u001b[39m▄\u001b[39m▁\u001b[39m▁\u001b[39m▁\u001b[39m▁\u001b[39m▁\u001b[39m▁\u001b[39m▁\u001b[39m▁\u001b[39m▁\u001b[39m▁\u001b[39m▁\u001b[39m▁\u001b[39m▁\u001b[39m▁\u001b[39m▁\u001b[39m▁\u001b[39m▁\u001b[39m▁\u001b[39m▁\u001b[39m▁\u001b[39m▁\u001b[39m▁\u001b[39m▁\u001b[39m▁\u001b[39m▄\u001b[39m█\u001b[39m█\u001b[34m█\u001b[39m\u001b[39m█\u001b[32m█\u001b[39m\u001b[39m█\u001b[39m▄\u001b[39m▁\u001b[39m▄\u001b[39m▁\u001b[39m▄\u001b[39m▁\u001b[39m▄\u001b[39m▁\u001b[39m▁\u001b[39m▁\u001b[39m▁\u001b[39m▁\u001b[39m▁\u001b[39m▁\u001b[39m▁\u001b[39m▁\u001b[39m▁\u001b[39m▁\u001b[39m▁\u001b[39m▁\u001b[39m▁\u001b[39m▁\u001b[39m▁\u001b[39m▄\u001b[39m▁\u001b[39m▁\u001b[39m▁\u001b[39m▁\u001b[39m▄\u001b[39m \u001b[39m▁\n",
       "  138 ms\u001b[90m           Histogram: frequency by time\u001b[39m          162 ms \u001b[0m\u001b[1m<\u001b[22m\n",
       "\n",
       " Memory estimate\u001b[90m: \u001b[39m\u001b[33m347.35 MiB\u001b[39m, allocs estimate\u001b[90m: \u001b[39m\u001b[33m7\u001b[39m."
      ]
     },
     "execution_count": 38,
     "metadata": {},
     "output_type": "execute_result"
    }
   ],
   "source": [
    "@benchmark get_num_ways2win(time_vec,d_vec)"
   ]
  },
  {
   "cell_type": "markdown",
   "id": "a9524a7b-6e9d-4922-9fbe-936263525db8",
   "metadata": {},
   "source": [
    "obviously one could right better code to find first and then find last... but sometimes you just need to do what works fast and recognize when the numbers are not too big."
   ]
  },
  {
   "cell_type": "code",
   "execution_count": null,
   "id": "55776a2e-d06c-4cea-b012-802c4c3f9b1c",
   "metadata": {},
   "outputs": [],
   "source": []
  }
 ],
 "metadata": {
  "kernelspec": {
   "display_name": "Julia 1.9.2",
   "language": "julia",
   "name": "julia-1.9"
  },
  "language_info": {
   "file_extension": ".jl",
   "mimetype": "application/julia",
   "name": "julia",
   "version": "1.9.2"
  }
 },
 "nbformat": 4,
 "nbformat_minor": 5
}
